{
  "nbformat": 4,
  "nbformat_minor": 0,
  "metadata": {
    "colab": {
      "name": "Untitled17.ipynb",
      "provenance": [],
      "authorship_tag": "ABX9TyO9u9Gtv2WjNXXhZpJ/o3jS",
      "include_colab_link": true
    },
    "kernelspec": {
      "name": "python3",
      "display_name": "Python 3"
    }
  },
  "cells": [
    {
      "cell_type": "markdown",
      "metadata": {
        "id": "view-in-github",
        "colab_type": "text"
      },
      "source": [
        "<a href=\"https://colab.research.google.com/github/mohmaed7777/prediction-Houses-price-with-linear-Regression/blob/main/Boston%20houses%20price.ipynb\" target=\"_parent\"><img src=\"https://colab.research.google.com/assets/colab-badge.svg\" alt=\"Open In Colab\"/></a>"
      ]
    },
    {
      "cell_type": "markdown",
      "metadata": {
        "id": "Z39fHlj6ry6b"
      },
      "source": [
        "Content\r\n",
        "\r\n",
        "Each record in the database describes a Boston suburb or town. The data was drawn from the Boston Standard Metropolitan Statistical Area (SMSA) in 1970. The attributes are deﬁned as follows (taken from the UCI Machine Learning Repository1): CRIM: per capita crime rate by town\r\n",
        "\r\n",
        "ZN: \r\n",
        "proportion of residential land zoned for lots over 25,000 sq.ft.\r\n",
        "INDUS:\r\n",
        " proportion of non-retail business acres per town\r\n",
        "CHAS: Charles River dummy variable (= 1 if tract bounds river; 0 otherwise)\r\n",
        "NOX:\r\n",
        " nitric oxides concentration (parts per 10 million)\r\n",
        "1https://archive.ics.uci.edu/ml/datasets/Housing\r\n",
        "123\r\n",
        "20.2. Load the Dataset 124\r\n",
        "RM:\r\n",
        " average number of rooms per dwelling\r\n",
        "AGE:\r\n",
        " proportion of owner-occupied units built prior to 1940\r\n",
        "DIS:\r\n",
        " weighted distances to ﬁve Boston employment centers\r\n",
        "RAD:\r\n",
        " index of accessibility to radial highways\r\n",
        "TAX:\r\n",
        " full-value property-tax rate per $10,000\r\n",
        "PTRATIO:\r\n",
        " pupil-teacher ratio by town 12. B:\r\n",
        "  1000(Bk−0.63)2 where Bk is the proportion of blacks by town 13. LSTAT:\r\n",
        "   % lower status of the population\r\n",
        "MEDV:\r\n",
        " Median value of owner-occupied homes in $1000s\r\n",
        "We can see that the input attributes have a mixture of units."
      ]
    },
    {
      "cell_type": "code",
      "metadata": {
        "id": "5KS1hggzrScN",
        "colab": {
          "base_uri": "https://localhost:8080/"
        },
        "outputId": "7ead4b56-18da-49eb-dc76-5669db77f69f"
      },
      "source": [
        "import pandas as pd \r\n",
        "import numpy as np \r\n",
        "import matplotlib.pyplot as plt \r\n",
        "import sklearn \r\n",
        "import seaborn as sns\r\n",
        "from sklearn.linear_model import LinearRegression\r\n",
        "from sklearn.metrics import r2_score\r\n",
        "from sklearn.model_selection import train_test_split\r\n",
        "from sklearn.preprocessing import (StandardScaler, PolynomialFeatures)\r\n",
        "%pylab inline\r\n",
        "%config InlineBackend.figure_formats=['retina']\r\n",
        "sns.set()\r\n",
        "%matplotlib inline \r\n",
        "print('Setup complete!!')"
      ],
      "execution_count": 4,
      "outputs": [
        {
          "output_type": "stream",
          "text": [
            "Populating the interactive namespace from numpy and matplotlib\n",
            "Setup complete!!\n"
          ],
          "name": "stdout"
        }
      ]
    },
    {
      "cell_type": "code",
      "metadata": {
        "id": "1Y97klJJsYWE",
        "colab": {
          "base_uri": "https://localhost:8080/",
          "height": 195
        },
        "outputId": "97f6ab2b-e75c-46b2-9540-64e478bcf2da"
      },
      "source": [
        "# Load the data : \r\n",
        "df = pd.read_csv('/content/boston_housing.csv')\r\n",
        "df.head()"
      ],
      "execution_count": 5,
      "outputs": [
        {
          "output_type": "execute_result",
          "data": {
            "text/html": [
              "<div>\n",
              "<style scoped>\n",
              "    .dataframe tbody tr th:only-of-type {\n",
              "        vertical-align: middle;\n",
              "    }\n",
              "\n",
              "    .dataframe tbody tr th {\n",
              "        vertical-align: top;\n",
              "    }\n",
              "\n",
              "    .dataframe thead th {\n",
              "        text-align: right;\n",
              "    }\n",
              "</style>\n",
              "<table border=\"1\" class=\"dataframe\">\n",
              "  <thead>\n",
              "    <tr style=\"text-align: right;\">\n",
              "      <th></th>\n",
              "      <th>crim</th>\n",
              "      <th>zn</th>\n",
              "      <th>indus</th>\n",
              "      <th>chas</th>\n",
              "      <th>nox</th>\n",
              "      <th>rm</th>\n",
              "      <th>age</th>\n",
              "      <th>dis</th>\n",
              "      <th>rad</th>\n",
              "      <th>tax</th>\n",
              "      <th>ptratio</th>\n",
              "      <th>black</th>\n",
              "      <th>lstat</th>\n",
              "      <th>medv</th>\n",
              "    </tr>\n",
              "  </thead>\n",
              "  <tbody>\n",
              "    <tr>\n",
              "      <th>0</th>\n",
              "      <td>0.00632</td>\n",
              "      <td>18.0</td>\n",
              "      <td>2.31</td>\n",
              "      <td>0</td>\n",
              "      <td>0.538</td>\n",
              "      <td>6.575</td>\n",
              "      <td>65.2</td>\n",
              "      <td>4.0900</td>\n",
              "      <td>1</td>\n",
              "      <td>296.0</td>\n",
              "      <td>15.3</td>\n",
              "      <td>396.90</td>\n",
              "      <td>4.98</td>\n",
              "      <td>24.0</td>\n",
              "    </tr>\n",
              "    <tr>\n",
              "      <th>1</th>\n",
              "      <td>0.02731</td>\n",
              "      <td>0.0</td>\n",
              "      <td>7.07</td>\n",
              "      <td>0</td>\n",
              "      <td>0.469</td>\n",
              "      <td>6.421</td>\n",
              "      <td>78.9</td>\n",
              "      <td>4.9671</td>\n",
              "      <td>2</td>\n",
              "      <td>242.0</td>\n",
              "      <td>17.8</td>\n",
              "      <td>396.90</td>\n",
              "      <td>9.14</td>\n",
              "      <td>21.6</td>\n",
              "    </tr>\n",
              "    <tr>\n",
              "      <th>2</th>\n",
              "      <td>0.02729</td>\n",
              "      <td>0.0</td>\n",
              "      <td>7.07</td>\n",
              "      <td>0</td>\n",
              "      <td>0.469</td>\n",
              "      <td>7.185</td>\n",
              "      <td>61.1</td>\n",
              "      <td>4.9671</td>\n",
              "      <td>2</td>\n",
              "      <td>242.0</td>\n",
              "      <td>17.8</td>\n",
              "      <td>392.83</td>\n",
              "      <td>4.03</td>\n",
              "      <td>34.7</td>\n",
              "    </tr>\n",
              "    <tr>\n",
              "      <th>3</th>\n",
              "      <td>0.03237</td>\n",
              "      <td>0.0</td>\n",
              "      <td>2.18</td>\n",
              "      <td>0</td>\n",
              "      <td>0.458</td>\n",
              "      <td>6.998</td>\n",
              "      <td>45.8</td>\n",
              "      <td>6.0622</td>\n",
              "      <td>3</td>\n",
              "      <td>222.0</td>\n",
              "      <td>18.7</td>\n",
              "      <td>394.63</td>\n",
              "      <td>2.94</td>\n",
              "      <td>33.4</td>\n",
              "    </tr>\n",
              "    <tr>\n",
              "      <th>4</th>\n",
              "      <td>0.06905</td>\n",
              "      <td>0.0</td>\n",
              "      <td>2.18</td>\n",
              "      <td>0</td>\n",
              "      <td>0.458</td>\n",
              "      <td>7.147</td>\n",
              "      <td>54.2</td>\n",
              "      <td>6.0622</td>\n",
              "      <td>3</td>\n",
              "      <td>222.0</td>\n",
              "      <td>18.7</td>\n",
              "      <td>396.90</td>\n",
              "      <td>5.33</td>\n",
              "      <td>36.2</td>\n",
              "    </tr>\n",
              "  </tbody>\n",
              "</table>\n",
              "</div>"
            ],
            "text/plain": [
              "      crim    zn  indus  chas    nox  ...    tax  ptratio   black  lstat  medv\n",
              "0  0.00632  18.0   2.31     0  0.538  ...  296.0     15.3  396.90   4.98  24.0\n",
              "1  0.02731   0.0   7.07     0  0.469  ...  242.0     17.8  396.90   9.14  21.6\n",
              "2  0.02729   0.0   7.07     0  0.469  ...  242.0     17.8  392.83   4.03  34.7\n",
              "3  0.03237   0.0   2.18     0  0.458  ...  222.0     18.7  394.63   2.94  33.4\n",
              "4  0.06905   0.0   2.18     0  0.458  ...  222.0     18.7  396.90   5.33  36.2\n",
              "\n",
              "[5 rows x 14 columns]"
            ]
          },
          "metadata": {
            "tags": []
          },
          "execution_count": 5
        }
      ]
    },
    {
      "cell_type": "code",
      "metadata": {
        "id": "eSW6Hi1tsqkg",
        "colab": {
          "base_uri": "https://localhost:8080/"
        },
        "outputId": "5ac959f8-5316-4823-e035-39e8cf95dd61"
      },
      "source": [
        "df.columns.tolist()"
      ],
      "execution_count": 6,
      "outputs": [
        {
          "output_type": "execute_result",
          "data": {
            "text/plain": [
              "['crim',\n",
              " 'zn',\n",
              " 'indus',\n",
              " 'chas',\n",
              " 'nox',\n",
              " 'rm',\n",
              " 'age',\n",
              " 'dis',\n",
              " 'rad',\n",
              " 'tax',\n",
              " 'ptratio',\n",
              " 'black',\n",
              " 'lstat',\n",
              " 'medv']"
            ]
          },
          "metadata": {
            "tags": []
          },
          "execution_count": 6
        }
      ]
    },
    {
      "cell_type": "code",
      "metadata": {
        "id": "vWDakhIKsuua",
        "colab": {
          "base_uri": "https://localhost:8080/"
        },
        "outputId": "6ed5790a-cf74-40b5-c578-b2765a37ffc2"
      },
      "source": [
        "df.shape"
      ],
      "execution_count": 7,
      "outputs": [
        {
          "output_type": "execute_result",
          "data": {
            "text/plain": [
              "(506, 14)"
            ]
          },
          "metadata": {
            "tags": []
          },
          "execution_count": 7
        }
      ]
    },
    {
      "cell_type": "code",
      "metadata": {
        "id": "TKwnJ_DexgKG",
        "colab": {
          "base_uri": "https://localhost:8080/"
        },
        "outputId": "18d62ce6-fe9b-458d-adf7-1e797d69b1da"
      },
      "source": [
        "# Dealing with the missing  values : \r\n",
        "missing_data = df.isnull().sum()\r\n",
        "missing_data[:15]"
      ],
      "execution_count": 8,
      "outputs": [
        {
          "output_type": "execute_result",
          "data": {
            "text/plain": [
              "crim       0\n",
              "zn         0\n",
              "indus      0\n",
              "chas       0\n",
              "nox        0\n",
              "rm         0\n",
              "age        0\n",
              "dis        0\n",
              "rad        0\n",
              "tax        0\n",
              "ptratio    0\n",
              "black      0\n",
              "lstat      0\n",
              "medv       0\n",
              "dtype: int64"
            ]
          },
          "metadata": {
            "tags": []
          },
          "execution_count": 8
        }
      ]
    },
    {
      "cell_type": "code",
      "metadata": {
        "id": "-ETEGswExuV3",
        "colab": {
          "base_uri": "https://localhost:8080/",
          "height": 304
        },
        "outputId": "5ea8898a-3584-408e-d9b2-ddecceddd462"
      },
      "source": [
        "df.describe()"
      ],
      "execution_count": 9,
      "outputs": [
        {
          "output_type": "execute_result",
          "data": {
            "text/html": [
              "<div>\n",
              "<style scoped>\n",
              "    .dataframe tbody tr th:only-of-type {\n",
              "        vertical-align: middle;\n",
              "    }\n",
              "\n",
              "    .dataframe tbody tr th {\n",
              "        vertical-align: top;\n",
              "    }\n",
              "\n",
              "    .dataframe thead th {\n",
              "        text-align: right;\n",
              "    }\n",
              "</style>\n",
              "<table border=\"1\" class=\"dataframe\">\n",
              "  <thead>\n",
              "    <tr style=\"text-align: right;\">\n",
              "      <th></th>\n",
              "      <th>crim</th>\n",
              "      <th>zn</th>\n",
              "      <th>indus</th>\n",
              "      <th>chas</th>\n",
              "      <th>nox</th>\n",
              "      <th>rm</th>\n",
              "      <th>age</th>\n",
              "      <th>dis</th>\n",
              "      <th>rad</th>\n",
              "      <th>tax</th>\n",
              "      <th>ptratio</th>\n",
              "      <th>black</th>\n",
              "      <th>lstat</th>\n",
              "      <th>medv</th>\n",
              "    </tr>\n",
              "  </thead>\n",
              "  <tbody>\n",
              "    <tr>\n",
              "      <th>count</th>\n",
              "      <td>506.000000</td>\n",
              "      <td>506.000000</td>\n",
              "      <td>506.000000</td>\n",
              "      <td>506.000000</td>\n",
              "      <td>506.000000</td>\n",
              "      <td>506.000000</td>\n",
              "      <td>506.000000</td>\n",
              "      <td>506.000000</td>\n",
              "      <td>506.000000</td>\n",
              "      <td>506.000000</td>\n",
              "      <td>506.000000</td>\n",
              "      <td>506.000000</td>\n",
              "      <td>506.000000</td>\n",
              "      <td>506.000000</td>\n",
              "    </tr>\n",
              "    <tr>\n",
              "      <th>mean</th>\n",
              "      <td>3.613524</td>\n",
              "      <td>11.363636</td>\n",
              "      <td>11.136779</td>\n",
              "      <td>0.069170</td>\n",
              "      <td>0.554695</td>\n",
              "      <td>6.284634</td>\n",
              "      <td>68.574901</td>\n",
              "      <td>3.795043</td>\n",
              "      <td>9.549407</td>\n",
              "      <td>408.237154</td>\n",
              "      <td>18.455534</td>\n",
              "      <td>356.674032</td>\n",
              "      <td>12.653063</td>\n",
              "      <td>22.532806</td>\n",
              "    </tr>\n",
              "    <tr>\n",
              "      <th>std</th>\n",
              "      <td>8.601545</td>\n",
              "      <td>23.322453</td>\n",
              "      <td>6.860353</td>\n",
              "      <td>0.253994</td>\n",
              "      <td>0.115878</td>\n",
              "      <td>0.702617</td>\n",
              "      <td>28.148861</td>\n",
              "      <td>2.105710</td>\n",
              "      <td>8.707259</td>\n",
              "      <td>168.537116</td>\n",
              "      <td>2.164946</td>\n",
              "      <td>91.294864</td>\n",
              "      <td>7.141062</td>\n",
              "      <td>9.197104</td>\n",
              "    </tr>\n",
              "    <tr>\n",
              "      <th>min</th>\n",
              "      <td>0.006320</td>\n",
              "      <td>0.000000</td>\n",
              "      <td>0.460000</td>\n",
              "      <td>0.000000</td>\n",
              "      <td>0.385000</td>\n",
              "      <td>3.561000</td>\n",
              "      <td>2.900000</td>\n",
              "      <td>1.129600</td>\n",
              "      <td>1.000000</td>\n",
              "      <td>187.000000</td>\n",
              "      <td>12.600000</td>\n",
              "      <td>0.320000</td>\n",
              "      <td>1.730000</td>\n",
              "      <td>5.000000</td>\n",
              "    </tr>\n",
              "    <tr>\n",
              "      <th>25%</th>\n",
              "      <td>0.082045</td>\n",
              "      <td>0.000000</td>\n",
              "      <td>5.190000</td>\n",
              "      <td>0.000000</td>\n",
              "      <td>0.449000</td>\n",
              "      <td>5.885500</td>\n",
              "      <td>45.025000</td>\n",
              "      <td>2.100175</td>\n",
              "      <td>4.000000</td>\n",
              "      <td>279.000000</td>\n",
              "      <td>17.400000</td>\n",
              "      <td>375.377500</td>\n",
              "      <td>6.950000</td>\n",
              "      <td>17.025000</td>\n",
              "    </tr>\n",
              "    <tr>\n",
              "      <th>50%</th>\n",
              "      <td>0.256510</td>\n",
              "      <td>0.000000</td>\n",
              "      <td>9.690000</td>\n",
              "      <td>0.000000</td>\n",
              "      <td>0.538000</td>\n",
              "      <td>6.208500</td>\n",
              "      <td>77.500000</td>\n",
              "      <td>3.207450</td>\n",
              "      <td>5.000000</td>\n",
              "      <td>330.000000</td>\n",
              "      <td>19.050000</td>\n",
              "      <td>391.440000</td>\n",
              "      <td>11.360000</td>\n",
              "      <td>21.200000</td>\n",
              "    </tr>\n",
              "    <tr>\n",
              "      <th>75%</th>\n",
              "      <td>3.677083</td>\n",
              "      <td>12.500000</td>\n",
              "      <td>18.100000</td>\n",
              "      <td>0.000000</td>\n",
              "      <td>0.624000</td>\n",
              "      <td>6.623500</td>\n",
              "      <td>94.075000</td>\n",
              "      <td>5.188425</td>\n",
              "      <td>24.000000</td>\n",
              "      <td>666.000000</td>\n",
              "      <td>20.200000</td>\n",
              "      <td>396.225000</td>\n",
              "      <td>16.955000</td>\n",
              "      <td>25.000000</td>\n",
              "    </tr>\n",
              "    <tr>\n",
              "      <th>max</th>\n",
              "      <td>88.976200</td>\n",
              "      <td>100.000000</td>\n",
              "      <td>27.740000</td>\n",
              "      <td>1.000000</td>\n",
              "      <td>0.871000</td>\n",
              "      <td>8.780000</td>\n",
              "      <td>100.000000</td>\n",
              "      <td>12.126500</td>\n",
              "      <td>24.000000</td>\n",
              "      <td>711.000000</td>\n",
              "      <td>22.000000</td>\n",
              "      <td>396.900000</td>\n",
              "      <td>37.970000</td>\n",
              "      <td>50.000000</td>\n",
              "    </tr>\n",
              "  </tbody>\n",
              "</table>\n",
              "</div>"
            ],
            "text/plain": [
              "             crim          zn       indus  ...       black       lstat        medv\n",
              "count  506.000000  506.000000  506.000000  ...  506.000000  506.000000  506.000000\n",
              "mean     3.613524   11.363636   11.136779  ...  356.674032   12.653063   22.532806\n",
              "std      8.601545   23.322453    6.860353  ...   91.294864    7.141062    9.197104\n",
              "min      0.006320    0.000000    0.460000  ...    0.320000    1.730000    5.000000\n",
              "25%      0.082045    0.000000    5.190000  ...  375.377500    6.950000   17.025000\n",
              "50%      0.256510    0.000000    9.690000  ...  391.440000   11.360000   21.200000\n",
              "75%      3.677083   12.500000   18.100000  ...  396.225000   16.955000   25.000000\n",
              "max     88.976200  100.000000   27.740000  ...  396.900000   37.970000   50.000000\n",
              "\n",
              "[8 rows x 14 columns]"
            ]
          },
          "metadata": {
            "tags": []
          },
          "execution_count": 9
        }
      ]
    },
    {
      "cell_type": "code",
      "metadata": {
        "id": "RjbZSxC1x0oB",
        "colab": {
          "base_uri": "https://localhost:8080/"
        },
        "outputId": "c725c07d-3476-4bcf-a6cf-1dbdf37f2ddd"
      },
      "source": [
        "# Variable Transformation & Log transformation: \r\n",
        "# Create a list of float columns to check for skewing: \r\n",
        "num_cols = df.select_dtypes('number').columns\r\n",
        "skew_limit = 0.75 # define a limit above which we will log transform\r\n",
        "skew_vals = df[num_cols].skew()\r\n",
        "# showing the skewed columns\r\n",
        "skew_cols  = skew_vals[abs(skew_vals) > skew_limit].sort_values(ascending=False)\r\n",
        "skew_cols"
      ],
      "execution_count": 16,
      "outputs": [
        {
          "output_type": "execute_result",
          "data": {
            "text/plain": [
              "chas       3.405904\n",
              "crim       1.269201\n",
              "zn         1.193451\n",
              "medv       1.108098\n",
              "ptratio   -1.002982\n",
              "black     -4.459061\n",
              "dtype: float64"
            ]
          },
          "metadata": {
            "tags": []
          },
          "execution_count": 16
        }
      ]
    },
    {
      "cell_type": "code",
      "metadata": {
        "id": "9gbgFxcT106D",
        "colab": {
          "base_uri": "https://localhost:8080/",
          "height": 270
        },
        "outputId": "8711562c-f8c1-401c-c458-81b53e28be29"
      },
      "source": [
        "df['medv'].hist();"
      ],
      "execution_count": 11,
      "outputs": [
        {
          "output_type": "display_data",
          "data": {
            "image/png": "[encoded data removed]",
            "text/plain": [
              "<Figure size 432x288 with 1 Axes>"
            ]
          },
          "metadata": {
            "tags": [],
            "image/png": {
              "width": 379,
              "height": 253
            },
            "needs_background": "light"
          }
        }
      ]
    },
    {
      "cell_type": "code",
      "metadata": {
        "id": "t4xMm9EQzVLx",
        "colab": {
          "base_uri": "https://localhost:8080/",
          "height": 407
        },
        "outputId": "d7d28047-ca71-487f-a010-bc6b68ee2d52"
      },
      "source": [
        "# Lets look at what happens to one of these features, when we apply np.log1p visually : \r\n",
        "# choose the filed: \r\n",
        "field = 'medv'\r\n",
        "# Create two subplots & a figure using matplotlib : \r\n",
        "fig, (ax_before, ax_after) = plt.subplots(1,2, figsize=(10,5))\r\n",
        "# Create a histogram on the \"ax_before\" subplot\r\n",
        "df[field].hist(ax = ax_before)\r\n",
        "# Apply a log transformation (numpy syntax) to this column:\r\n",
        "df[field].apply(np.log1p).hist(ax = ax_after)\r\n",
        "# Formatting the titles : \r\n",
        "ax_before.set(title='Before np.log1p',\r\n",
        "              ylabel='Frequncy',\r\n",
        "              xlabel='Value')\r\n",
        "ax_after.set(title='after np.log1p',\r\n",
        "              ylabel='Frequncy',\r\n",
        "              xlabel='Value')"
      ],
      "execution_count": 17,
      "outputs": [
        {
          "output_type": "execute_result",
          "data": {
            "text/plain": [
              "[Text(0, 0.5, 'Frequncy'),\n",
              " Text(0.5, 0, 'Value'),\n",
              " Text(0.5, 1.0, 'after np.log1p')]"
            ]
          },
          "metadata": {
            "tags": []
          },
          "execution_count": 17
        },
        {
          "output_type": "display_data",
          "data": {
            "image/png": "[encoded data removed]",
            "text/plain": [
              "<Figure size 720x360 with 2 Axes>"
            ]
          },
          "metadata": {
            "tags": [],
            "image/png": {
              "width": 623,
              "height": 337
            },
            "needs_background": "light"
          }
        }
      ]
    },
    {
      "cell_type": "code",
      "metadata": {
        "id": "0WIwESR60Yej"
      },
      "source": [
        "# perform the skew transformation : \r\n",
        "for col in skew_cols.index.values:\r\n",
        "  if col == 'medv':\r\n",
        "    continue\r\n",
        "  df[col] = df[col].apply(np.log1p)  "
      ],
      "execution_count": 18,
      "outputs": []
    },
    {
      "cell_type": "code",
      "metadata": {
        "id": "LyDh-Dvlxs2J"
      },
      "source": [
        "from scipy.stats.mstats import normaltest\r\n"
      ],
      "execution_count": 19,
      "outputs": []
    },
    {
      "cell_type": "code",
      "metadata": {
        "id": "-Tkb2CFuyHqH",
        "outputId": "e07d2c65-f917-44f2-8757-8083a034cbcd",
        "colab": {
          "base_uri": "https://localhost:8080/"
        }
      },
      "source": [
        "normaltest(df.medv.values)"
      ],
      "execution_count": 24,
      "outputs": [
        {
          "output_type": "execute_result",
          "data": {
            "text/plain": [
              "NormaltestResult(statistic=90.9746873700967, pvalue=1.7583188871696095e-20)"
            ]
          },
          "metadata": {
            "tags": []
          },
          "execution_count": 24
        }
      ]
    },
    {
      "cell_type": "code",
      "metadata": {
        "id": "DZ8DnYerzI2B",
        "outputId": "3893c1a3-c08a-491c-aa1e-bec6ddbe6efb",
        "colab": {
          "base_uri": "https://localhost:8080/",
          "height": 270
        }
      },
      "source": [
        "df.medv.hist();"
      ],
      "execution_count": 25,
      "outputs": [
        {
          "output_type": "display_data",
          "data": {
            "image/png": "[encoded data removed]",
            "text/plain": [
              "<Figure size 432x288 with 1 Axes>"
            ]
          },
          "metadata": {
            "tags": [],
            "image/png": {
              "width": 379,
              "height": 253
            },
            "needs_background": "light"
          }
        }
      ]
    },
    {
      "cell_type": "code",
      "metadata": {
        "id": "15abzbnb0utJ"
      },
      "source": [
        "log_medv = np.log(df.medv)"
      ],
      "execution_count": 27,
      "outputs": []
    },
    {
      "cell_type": "code",
      "metadata": {
        "id": "omo8zMap1Ib1",
        "outputId": "fa5d6644-b3a9-4a1b-c361-63c7b6036e67",
        "colab": {
          "base_uri": "https://localhost:8080/"
        }
      },
      "source": [
        "log_medv"
      ],
      "execution_count": 28,
      "outputs": [
        {
          "output_type": "execute_result",
          "data": {
            "text/plain": [
              "0      3.178054\n",
              "1      3.072693\n",
              "2      3.546740\n",
              "3      3.508556\n",
              "4      3.589059\n",
              "         ...   \n",
              "501    3.109061\n",
              "502    3.025291\n",
              "503    3.173878\n",
              "504    3.091042\n",
              "505    2.476538\n",
              "Name: medv, Length: 506, dtype: float64"
            ]
          },
          "metadata": {
            "tags": []
          },
          "execution_count": 28
        }
      ]
    },
    {
      "cell_type": "code",
      "metadata": {
        "id": "GQ6Sm6_T1OIn",
        "outputId": "be3080ac-7da3-460e-ff84-3d4f546664d2",
        "colab": {
          "base_uri": "https://localhost:8080/",
          "height": 268
        }
      },
      "source": [
        "log_medv.hist();"
      ],
      "execution_count": 29,
      "outputs": [
        {
          "output_type": "display_data",
          "data": {
            "image/png": "[encoded data removed]",
            "text/plain": [
              "<Figure size 432x288 with 1 Axes>"
            ]
          },
          "metadata": {
            "tags": [],
            "image/png": {
              "width": 385,
              "height": 251
            },
            "needs_background": "light"
          }
        }
      ]
    },
    {
      "cell_type": "code",
      "metadata": {
        "id": "uX6Ctece1iT-",
        "outputId": "435294d3-e95a-44dd-e5a4-823fb884b844",
        "colab": {
          "base_uri": "https://localhost:8080/"
        }
      },
      "source": [
        "normaltest(log_medv)"
      ],
      "execution_count": 30,
      "outputs": [
        {
          "output_type": "execute_result",
          "data": {
            "text/plain": [
              "NormaltestResult(statistic=17.21801696640698, pvalue=0.00018245472768345196)"
            ]
          },
          "metadata": {
            "tags": []
          },
          "execution_count": 30
        }
      ]
    },
    {
      "cell_type": "code",
      "metadata": {
        "id": "2d8ePfoS5VNI",
        "colab": {
          "base_uri": "https://localhost:8080/"
        },
        "outputId": "edef4b03-275b-4ba1-a4c8-22b5ee6de1a4"
      },
      "source": [
        "# Create our model : \r\n",
        "lr = LinearRegression()\r\n",
        "lr"
      ],
      "execution_count": 31,
      "outputs": [
        {
          "output_type": "execute_result",
          "data": {
            "text/plain": [
              "LinearRegression(copy_X=True, fit_intercept=True, n_jobs=None, normalize=False)"
            ]
          },
          "metadata": {
            "tags": []
          },
          "execution_count": 31
        }
      ]
    },
    {
      "cell_type": "code",
      "metadata": {
        "id": "K8nk_s9M89Ev",
        "colab": {
          "base_uri": "https://localhost:8080/"
        },
        "outputId": "76ab7707-66e7-4c02-b2af-79909d6d31dc"
      },
      "source": [
        "df.columns.tolist()"
      ],
      "execution_count": null,
      "outputs": [
        {
          "output_type": "execute_result",
          "data": {
            "text/plain": [
              "['crim',\n",
              " 'zn',\n",
              " 'indus',\n",
              " 'chas',\n",
              " 'nox',\n",
              " 'rm',\n",
              " 'age',\n",
              " 'dis',\n",
              " 'rad',\n",
              " 'tax',\n",
              " 'ptratio',\n",
              " 'black',\n",
              " 'lstat',\n",
              " 'medv']"
            ]
          },
          "metadata": {
            "tags": []
          },
          "execution_count": 35
        }
      ]
    },
    {
      "cell_type": "code",
      "metadata": {
        "id": "hKcR69IE4dX3",
        "outputId": "4770772a-ec03-4ae6-b740-44a04cc39d91",
        "colab": {
          "base_uri": "https://localhost:8080/",
          "height": 402
        }
      },
      "source": [
        "# Create X and Y :\r\n",
        "y_col = df['medv'] \r\n",
        "boston_data = df\r\n",
        "x = boston_data[['crim',\r\n",
        " 'zn',\r\n",
        " 'indus',\r\n",
        " 'chas',\r\n",
        " 'nox',\r\n",
        " 'rm',\r\n",
        " 'age',\r\n",
        " 'dis',\r\n",
        " 'rad',\r\n",
        " 'tax',\r\n",
        " 'ptratio',\r\n",
        " 'black',\r\n",
        " 'lstat']]\r\n",
        "x"
      ],
      "execution_count": 43,
      "outputs": [
        {
          "output_type": "execute_result",
          "data": {
            "text/html": [
              "<div>\n",
              "<style scoped>\n",
              "    .dataframe tbody tr th:only-of-type {\n",
              "        vertical-align: middle;\n",
              "    }\n",
              "\n",
              "    .dataframe tbody tr th {\n",
              "        vertical-align: top;\n",
              "    }\n",
              "\n",
              "    .dataframe thead th {\n",
              "        text-align: right;\n",
              "    }\n",
              "</style>\n",
              "<table border=\"1\" class=\"dataframe\">\n",
              "  <thead>\n",
              "    <tr style=\"text-align: right;\">\n",
              "      <th></th>\n",
              "      <th>crim</th>\n",
              "      <th>zn</th>\n",
              "      <th>indus</th>\n",
              "      <th>chas</th>\n",
              "      <th>nox</th>\n",
              "      <th>rm</th>\n",
              "      <th>age</th>\n",
              "      <th>dis</th>\n",
              "      <th>rad</th>\n",
              "      <th>tax</th>\n",
              "      <th>ptratio</th>\n",
              "      <th>black</th>\n",
              "      <th>lstat</th>\n",
              "    </tr>\n",
              "  </thead>\n",
              "  <tbody>\n",
              "    <tr>\n",
              "      <th>0</th>\n",
              "      <td>0.006280</td>\n",
              "      <td>1.372307</td>\n",
              "      <td>2.31</td>\n",
              "      <td>0.0</td>\n",
              "      <td>0.538</td>\n",
              "      <td>6.575</td>\n",
              "      <td>65.2</td>\n",
              "      <td>1.627278</td>\n",
              "      <td>0.693147</td>\n",
              "      <td>296.0</td>\n",
              "      <td>1.332673</td>\n",
              "      <td>1.943937</td>\n",
              "      <td>1.788421</td>\n",
              "    </tr>\n",
              "    <tr>\n",
              "      <th>1</th>\n",
              "      <td>0.026587</td>\n",
              "      <td>0.000000</td>\n",
              "      <td>7.07</td>\n",
              "      <td>0.0</td>\n",
              "      <td>0.469</td>\n",
              "      <td>6.421</td>\n",
              "      <td>78.9</td>\n",
              "      <td>1.786261</td>\n",
              "      <td>1.098612</td>\n",
              "      <td>242.0</td>\n",
              "      <td>1.369620</td>\n",
              "      <td>1.943937</td>\n",
              "      <td>2.316488</td>\n",
              "    </tr>\n",
              "    <tr>\n",
              "      <th>2</th>\n",
              "      <td>0.026568</td>\n",
              "      <td>0.000000</td>\n",
              "      <td>7.07</td>\n",
              "      <td>0.0</td>\n",
              "      <td>0.469</td>\n",
              "      <td>7.185</td>\n",
              "      <td>61.1</td>\n",
              "      <td>1.786261</td>\n",
              "      <td>1.098612</td>\n",
              "      <td>242.0</td>\n",
              "      <td>1.369620</td>\n",
              "      <td>1.942464</td>\n",
              "      <td>1.615420</td>\n",
              "    </tr>\n",
              "    <tr>\n",
              "      <th>3</th>\n",
              "      <td>0.031360</td>\n",
              "      <td>0.000000</td>\n",
              "      <td>2.18</td>\n",
              "      <td>0.0</td>\n",
              "      <td>0.458</td>\n",
              "      <td>6.998</td>\n",
              "      <td>45.8</td>\n",
              "      <td>1.954757</td>\n",
              "      <td>1.386294</td>\n",
              "      <td>222.0</td>\n",
              "      <td>1.381437</td>\n",
              "      <td>1.943118</td>\n",
              "      <td>1.371181</td>\n",
              "    </tr>\n",
              "    <tr>\n",
              "      <th>4</th>\n",
              "      <td>0.064636</td>\n",
              "      <td>0.000000</td>\n",
              "      <td>2.18</td>\n",
              "      <td>0.0</td>\n",
              "      <td>0.458</td>\n",
              "      <td>7.147</td>\n",
              "      <td>54.2</td>\n",
              "      <td>1.954757</td>\n",
              "      <td>1.386294</td>\n",
              "      <td>222.0</td>\n",
              "      <td>1.381437</td>\n",
              "      <td>1.943937</td>\n",
              "      <td>1.845300</td>\n",
              "    </tr>\n",
              "    <tr>\n",
              "      <th>...</th>\n",
              "      <td>...</td>\n",
              "      <td>...</td>\n",
              "      <td>...</td>\n",
              "      <td>...</td>\n",
              "      <td>...</td>\n",
              "      <td>...</td>\n",
              "      <td>...</td>\n",
              "      <td>...</td>\n",
              "      <td>...</td>\n",
              "      <td>...</td>\n",
              "      <td>...</td>\n",
              "      <td>...</td>\n",
              "      <td>...</td>\n",
              "    </tr>\n",
              "    <tr>\n",
              "      <th>501</th>\n",
              "      <td>0.058973</td>\n",
              "      <td>0.000000</td>\n",
              "      <td>11.93</td>\n",
              "      <td>0.0</td>\n",
              "      <td>0.573</td>\n",
              "      <td>6.593</td>\n",
              "      <td>69.1</td>\n",
              "      <td>1.246630</td>\n",
              "      <td>0.693147</td>\n",
              "      <td>273.0</td>\n",
              "      <td>1.408800</td>\n",
              "      <td>1.942158</td>\n",
              "      <td>2.367436</td>\n",
              "    </tr>\n",
              "    <tr>\n",
              "      <th>502</th>\n",
              "      <td>0.043323</td>\n",
              "      <td>0.000000</td>\n",
              "      <td>11.93</td>\n",
              "      <td>0.0</td>\n",
              "      <td>0.573</td>\n",
              "      <td>6.120</td>\n",
              "      <td>76.7</td>\n",
              "      <td>1.190127</td>\n",
              "      <td>0.693147</td>\n",
              "      <td>273.0</td>\n",
              "      <td>1.408800</td>\n",
              "      <td>1.943937</td>\n",
              "      <td>2.310553</td>\n",
              "    </tr>\n",
              "    <tr>\n",
              "      <th>503</th>\n",
              "      <td>0.057311</td>\n",
              "      <td>0.000000</td>\n",
              "      <td>11.93</td>\n",
              "      <td>0.0</td>\n",
              "      <td>0.573</td>\n",
              "      <td>6.976</td>\n",
              "      <td>91.0</td>\n",
              "      <td>1.152943</td>\n",
              "      <td>0.693147</td>\n",
              "      <td>273.0</td>\n",
              "      <td>1.408800</td>\n",
              "      <td>1.943937</td>\n",
              "      <td>1.893112</td>\n",
              "    </tr>\n",
              "    <tr>\n",
              "      <th>504</th>\n",
              "      <td>0.098931</td>\n",
              "      <td>0.000000</td>\n",
              "      <td>11.93</td>\n",
              "      <td>0.0</td>\n",
              "      <td>0.573</td>\n",
              "      <td>6.794</td>\n",
              "      <td>89.3</td>\n",
              "      <td>1.220505</td>\n",
              "      <td>0.693147</td>\n",
              "      <td>273.0</td>\n",
              "      <td>1.408800</td>\n",
              "      <td>1.942690</td>\n",
              "      <td>2.012233</td>\n",
              "    </tr>\n",
              "    <tr>\n",
              "      <th>505</th>\n",
              "      <td>0.045280</td>\n",
              "      <td>0.000000</td>\n",
              "      <td>11.93</td>\n",
              "      <td>0.0</td>\n",
              "      <td>0.573</td>\n",
              "      <td>6.030</td>\n",
              "      <td>80.8</td>\n",
              "      <td>1.254191</td>\n",
              "      <td>0.693147</td>\n",
              "      <td>273.0</td>\n",
              "      <td>1.408800</td>\n",
              "      <td>1.943937</td>\n",
              "      <td>2.183802</td>\n",
              "    </tr>\n",
              "  </tbody>\n",
              "</table>\n",
              "<p>506 rows × 13 columns</p>\n",
              "</div>"
            ],
            "text/plain": [
              "         crim        zn  indus  chas  ...    tax   ptratio     black     lstat\n",
              "0    0.006280  1.372307   2.31   0.0  ...  296.0  1.332673  1.943937  1.788421\n",
              "1    0.026587  0.000000   7.07   0.0  ...  242.0  1.369620  1.943937  2.316488\n",
              "2    0.026568  0.000000   7.07   0.0  ...  242.0  1.369620  1.942464  1.615420\n",
              "3    0.031360  0.000000   2.18   0.0  ...  222.0  1.381437  1.943118  1.371181\n",
              "4    0.064636  0.000000   2.18   0.0  ...  222.0  1.381437  1.943937  1.845300\n",
              "..        ...       ...    ...   ...  ...    ...       ...       ...       ...\n",
              "501  0.058973  0.000000  11.93   0.0  ...  273.0  1.408800  1.942158  2.367436\n",
              "502  0.043323  0.000000  11.93   0.0  ...  273.0  1.408800  1.943937  2.310553\n",
              "503  0.057311  0.000000  11.93   0.0  ...  273.0  1.408800  1.943937  1.893112\n",
              "504  0.098931  0.000000  11.93   0.0  ...  273.0  1.408800  1.942690  2.012233\n",
              "505  0.045280  0.000000  11.93   0.0  ...  273.0  1.408800  1.943937  2.183802\n",
              "\n",
              "[506 rows x 13 columns]"
            ]
          },
          "metadata": {
            "tags": []
          },
          "execution_count": 43
        }
      ]
    },
    {
      "cell_type": "code",
      "metadata": {
        "id": "AOhvipNj6DVR",
        "outputId": "edc2d829-1bea-48d2-f485-766318a1679e",
        "colab": {
          "base_uri": "https://localhost:8080/"
        }
      },
      "source": [
        "y = y_col\r\n",
        "y"
      ],
      "execution_count": 46,
      "outputs": [
        {
          "output_type": "execute_result",
          "data": {
            "text/plain": [
              "0      24.0\n",
              "1      21.6\n",
              "2      34.7\n",
              "3      33.4\n",
              "4      36.2\n",
              "       ... \n",
              "501    22.4\n",
              "502    20.6\n",
              "503    23.9\n",
              "504    22.0\n",
              "505    11.9\n",
              "Name: medv, Length: 506, dtype: float64"
            ]
          },
          "metadata": {
            "tags": []
          },
          "execution_count": 46
        }
      ]
    },
    {
      "cell_type": "code",
      "metadata": {
        "id": "C9mYSC-6-P1T"
      },
      "source": [
        "# Create a ploynomial Features : \r\n",
        "pf = PolynomialFeatures(degree=2, include_bias=False)\r\n",
        "x_pf = pf.fit_transform(x)"
      ],
      "execution_count": 47,
      "outputs": []
    },
    {
      "cell_type": "code",
      "metadata": {
        "id": "DiB8R_vN7qV3",
        "outputId": "6781811c-d28e-40c0-976e-244bc57aba4b",
        "colab": {
          "base_uri": "https://localhost:8080/"
        }
      },
      "source": [
        "x_pf"
      ],
      "execution_count": 48,
      "outputs": [
        {
          "output_type": "execute_result",
          "data": {
            "text/plain": [
              "array([[6.28034980e-03, 1.37230673e+00, 2.31000000e+00, ...,\n",
              "        3.77889058e+00, 3.47657669e+00, 3.19844813e+00],\n",
              "       [2.65871441e-02, 0.00000000e+00, 7.07000000e+00, ...,\n",
              "        3.77889058e+00, 4.50310645e+00, 5.36611665e+00],\n",
              "       [2.65681862e-02, 0.00000000e+00, 7.07000000e+00, ...,\n",
              "        3.77316688e+00, 3.13789537e+00, 2.60958173e+00],\n",
              "       ...,\n",
              "       [5.73114993e-02, 0.00000000e+00, 1.19300000e+01, ...,\n",
              "        3.77889058e+00, 3.68009016e+00, 3.58387291e+00],\n",
              "       [9.89314131e-02, 0.00000000e+00, 1.19300000e+01, ...,\n",
              "        3.77404287e+00, 3.90914371e+00, 4.04908081e+00],\n",
              "       [4.52796765e-02, 0.00000000e+00, 1.19300000e+01, ...,\n",
              "        3.77889058e+00, 4.24517238e+00, 4.76898924e+00]])"
            ]
          },
          "metadata": {
            "tags": []
          },
          "execution_count": 48
        }
      ]
    },
    {
      "cell_type": "code",
      "metadata": {
        "id": "zh7CWYe27tZP",
        "outputId": "cff1bd41-9c0e-4672-975d-3556094a8c6c",
        "colab": {
          "base_uri": "https://localhost:8080/"
        }
      },
      "source": [
        "x_pf.shape"
      ],
      "execution_count": 49,
      "outputs": [
        {
          "output_type": "execute_result",
          "data": {
            "text/plain": [
              "(506, 104)"
            ]
          },
          "metadata": {
            "tags": []
          },
          "execution_count": 49
        }
      ]
    },
    {
      "cell_type": "code",
      "metadata": {
        "id": "l1CcEx1E7xNQ",
        "outputId": "826243d8-1866-4d70-9c66-081ef0c6353b",
        "colab": {
          "base_uri": "https://localhost:8080/"
        }
      },
      "source": [
        "x.shape"
      ],
      "execution_count": 50,
      "outputs": [
        {
          "output_type": "execute_result",
          "data": {
            "text/plain": [
              "(506, 13)"
            ]
          },
          "metadata": {
            "tags": []
          },
          "execution_count": 50
        }
      ]
    },
    {
      "cell_type": "code",
      "metadata": {
        "id": "Uy9qDfIj70nd"
      },
      "source": [
        "# Train Test split : \r\n",
        "x_train, x_test, y_train, y_test = train_test_split(x_pf, y, test_size=0.3, random_state=72018)"
      ],
      "execution_count": 51,
      "outputs": []
    },
    {
      "cell_type": "code",
      "metadata": {
        "id": "3bJHT0ZG82Jh",
        "outputId": "f8ff24bd-def4-467b-e7dc-31ba56546950",
        "colab": {
          "base_uri": "https://localhost:8080/"
        }
      },
      "source": [
        "# Fit StanderScaler on x_train : \r\n",
        "x_train.shape"
      ],
      "execution_count": 52,
      "outputs": [
        {
          "output_type": "execute_result",
          "data": {
            "text/plain": [
              "(354, 104)"
            ]
          },
          "metadata": {
            "tags": []
          },
          "execution_count": 52
        }
      ]
    },
    {
      "cell_type": "code",
      "metadata": {
        "id": "FCAbinFK94JA",
        "outputId": "bf3143b1-67fc-4e7d-cb60-13eb8031f189",
        "colab": {
          "base_uri": "https://localhost:8080/"
        }
      },
      "source": [
        "s = StandardScaler()\r\n",
        "x_train_s = s.fit_transform(x_train)\r\n",
        "x_train_s.shape"
      ],
      "execution_count": 59,
      "outputs": [
        {
          "output_type": "execute_result",
          "data": {
            "text/plain": [
              "(354, 104)"
            ]
          },
          "metadata": {
            "tags": []
          },
          "execution_count": 59
        }
      ]
    },
    {
      "cell_type": "code",
      "metadata": {
        "id": "3PwShakp99Lo"
      },
      "source": [
        "from scipy.stats import boxcox\r\n"
      ],
      "execution_count": 60,
      "outputs": []
    },
    {
      "cell_type": "code",
      "metadata": {
        "id": "qmEmeaY-C8R4"
      },
      "source": [
        "# Make Boxcox transformation for y value : \r\n",
        "bc_result = boxcox(y_train)\r\n",
        "y_train_bc = bc_result[0]\r\n",
        "lam = bc_result[1]\r\n"
      ],
      "execution_count": 61,
      "outputs": []
    },
    {
      "cell_type": "code",
      "metadata": {
        "id": "gyq3V5elDVZX",
        "outputId": "d00c7e72-e732-4a6c-9446-9aa439fcc655",
        "colab": {
          "base_uri": "https://localhost:8080/"
        }
      },
      "source": [
        "y_train_bc"
      ],
      "execution_count": 62,
      "outputs": [
        {
          "output_type": "execute_result",
          "data": {
            "text/plain": [
              "array([4.8625686 , 6.0629177 , 4.51310411, 4.81957899, 4.95725428,\n",
              "       5.77277497, 5.41197088, 5.75640624, 3.72665146, 4.94686892,\n",
              "       5.75640624, 4.80874112, 3.92225296, 4.58384068, 4.78695477,\n",
              "       6.64804017, 3.77300722, 2.91446761, 3.99405229, 5.37557157,\n",
              "       2.91446761, 5.14858214, 3.37830364, 5.61413692, 4.46503222,\n",
              "       6.62861276, 3.53307611, 3.78829063, 4.6643901 , 4.74293114,\n",
              "       4.76501893, 4.58384068, 6.66093826, 4.90499278, 4.72068886,\n",
              "       5.1583522 , 3.30653002, 3.15681299, 4.6070669 , 6.0021158 ,\n",
              "       7.02952208, 4.6870301 , 3.78829063, 5.05933485, 4.19940562,\n",
              "       4.93645035, 6.30368143, 7.02952208, 5.65657858, 4.54867373,\n",
              "       4.59547537, 4.6070669 , 4.8411456 , 5.37557157, 3.93675676,\n",
              "       4.22573738, 4.6070669 , 4.47712066, 4.54867373, 5.61413692,\n",
              "       4.93645035, 2.39638821, 4.88385027, 3.6795137 , 5.08935167,\n",
              "       4.78695477, 6.22513995, 4.92599831, 6.02503476, 4.10535832,\n",
              "       4.4284788 , 4.59547537, 5.51012859, 3.51631095, 5.05933485,\n",
              "       4.54867373, 5.90897289, 4.58384068, 4.05023615, 4.58384068,\n",
              "       7.02952208, 5.45693428, 4.87322696, 4.47712066, 7.02952208,\n",
              "       4.65300883, 5.01888279, 3.11799245, 7.02952208, 4.57216244,\n",
              "       5.06937077, 5.10921274, 2.02481765, 4.54867373, 4.63012196,\n",
              "       4.8625686 , 2.87170159, 4.96760668, 4.65300883, 4.98821357,\n",
              "       5.89321422, 3.78829063, 4.69828951, 5.08935167, 4.6870301 ,\n",
              "       5.17780698, 3.78829063, 2.97726946, 4.8411456 , 5.76459999,\n",
              "       4.58384068, 4.75399418, 4.40386518, 3.69531512, 5.1583522 ,\n",
              "       3.80349159, 4.77600569, 6.02503476, 4.39148356, 5.32023533,\n",
              "       5.59701568, 2.82818197, 5.51891547, 2.02481765, 5.69851559,\n",
              "       4.47712066, 4.41619677, 4.8625686 , 5.17780698, 4.02227997,\n",
              "       5.50131941, 4.57216244, 4.31611532, 3.25138802, 5.465857  ,\n",
              "       5.63966328, 5.55384267, 6.04781136, 4.61861563, 4.8411456 ,\n",
              "       3.6795137 , 4.44071174, 4.59547537, 4.05023615, 6.1375352 ,\n",
              "       4.05023615, 5.89321422, 4.70950898, 6.12273165, 2.69276611,\n",
              "       4.83038039, 4.87322696, 6.19616649, 5.06937077, 5.03917094,\n",
              "       4.44071174, 6.48309287, 4.89443878, 4.99846855, 5.51891547,\n",
              "       4.93645035, 3.37830364, 4.98821357, 4.64158623, 5.07937631,\n",
              "       5.19714927, 4.97792636, 5.12895568, 7.02952208, 3.48246652,\n",
              "       7.02952208, 5.8133718 , 4.17283862, 6.12273165, 4.92599831,\n",
              "       4.30336941, 3.74218874, 4.64158623, 5.31092456, 5.03917094,\n",
              "       4.37905141, 4.59547537, 4.00820046, 5.13878337, 4.75399418,\n",
              "       4.22573738, 4.6870301 , 5.54514366, 4.65300883, 6.20343095,\n",
              "       6.0629177 , 5.33878073, 2.62209382, 5.04926831, 7.02952208,\n",
              "       5.90897289, 4.96760668, 5.4924878 , 5.63966328, 5.41197088,\n",
              "       4.56044025, 3.53307611, 4.63012196, 5.10921274, 5.13878337,\n",
              "       4.6643901 , 4.52500607, 4.76501893, 5.06937077, 4.15946534,\n",
              "       6.75005519, 4.97792636, 4.10535832, 4.31611532, 4.50115617,\n",
              "       4.74293114, 6.71210964, 5.55384267, 4.95725428, 6.14491488,\n",
              "       4.87322696, 5.02904251, 2.95651035, 3.89302335, 4.6643901 ,\n",
              "       4.63012196, 3.95118773, 4.56044025, 4.67573041, 4.45289606,\n",
              "       3.74218874, 4.83038039, 5.32952066, 4.80874112, 4.53686248,\n",
              "       3.81861116, 4.80874112, 4.95725428, 3.6795137 , 5.69016788,\n",
              "       4.25183879, 4.70950898, 4.70950898, 4.26480461, 3.66362184,\n",
              "       5.04926831, 4.94686892, 3.90767545, 4.72068886, 4.10535832,\n",
              "       3.44819273, 5.67341314, 7.02952208, 3.84861019, 4.17283862,\n",
              "       6.38062104, 4.46503222, 4.85187491, 5.11909887, 7.02952208,\n",
              "       6.83104027, 4.6070669 , 4.87322696, 4.45289606, 4.69828951,\n",
              "       2.62209382, 5.44798843, 6.5829015 , 4.50115617, 4.53686248,\n",
              "       4.99846855, 4.47712066, 4.87322696, 5.10921274, 4.06411435,\n",
              "       4.72068886, 7.02952208, 5.14858214, 3.95118773, 4.67573041,\n",
              "       2.62209382, 4.98821357, 4.02227997, 4.00820046, 4.29056935,\n",
              "       3.6476383 , 4.57216244, 4.34144687, 3.84861019, 4.97792636,\n",
              "       4.10535832, 4.46503222, 3.58276147, 6.54991774, 5.32952066,\n",
              "       5.82948262, 4.6870301 , 3.84861019, 4.69828951, 4.77600569,\n",
              "       4.48916183, 4.8411456 , 4.74293114, 5.00869155, 5.17780698,\n",
              "       3.3605416 , 2.89317686, 4.87322696, 4.57216244, 3.28827772,\n",
              "       4.17283862, 5.36641096, 4.97792636, 5.17780698, 4.72068886,\n",
              "       3.96554675, 4.25183879, 4.98821357, 5.06937077, 5.11909887,\n",
              "       5.29222605, 5.41197088, 3.93675676, 4.23881658, 5.05933485,\n",
              "       4.50115617, 4.91551254, 4.91551254, 6.04023484, 5.71515227,\n",
              "       4.8411456 , 4.26480461, 5.12895568, 4.34144687, 6.1078687 ,\n",
              "       5.17780698, 3.81861116, 5.73171132, 5.86944667, 2.20407036,\n",
              "       3.28827772, 4.89443878, 5.83751101, 5.17780698, 5.85351424,\n",
              "       5.04926831, 4.78695477, 4.36656825, 4.39148356, 4.81957899,\n",
              "       5.47475673, 5.20677872, 4.02227997, 4.34144687])"
            ]
          },
          "metadata": {
            "tags": []
          },
          "execution_count": 62
        }
      ]
    },
    {
      "cell_type": "code",
      "metadata": {
        "id": "5xOW34OFDYXx",
        "outputId": "8107cf09-8a9a-4b0a-a665-11a5e4de58ac",
        "colab": {
          "base_uri": "https://localhost:8080/"
        }
      },
      "source": [
        "lam"
      ],
      "execution_count": 63,
      "outputs": [
        {
          "output_type": "execute_result",
          "data": {
            "text/plain": [
              "0.2751714409758365"
            ]
          },
          "metadata": {
            "tags": []
          },
          "execution_count": 63
        }
      ]
    },
    {
      "cell_type": "code",
      "metadata": {
        "id": "t8p7HidVDcS4",
        "outputId": "90c6dccc-39b6-4d64-cc5f-e459d440a1f4",
        "colab": {
          "base_uri": "https://localhost:8080/"
        }
      },
      "source": [
        "# Fit the model : \r\n",
        "lr.fit(x_train_s, y_train_bc)"
      ],
      "execution_count": 64,
      "outputs": [
        {
          "output_type": "execute_result",
          "data": {
            "text/plain": [
              "LinearRegression(copy_X=True, fit_intercept=True, n_jobs=None, normalize=False)"
            ]
          },
          "metadata": {
            "tags": []
          },
          "execution_count": 64
        }
      ]
    },
    {
      "cell_type": "code",
      "metadata": {
        "id": "zCcfAGymDtzz"
      },
      "source": [
        "x_test_s = s.transform(x_test)"
      ],
      "execution_count": 65,
      "outputs": []
    },
    {
      "cell_type": "code",
      "metadata": {
        "id": "8PXdNDqnD0Wl"
      },
      "source": [
        "y_pred_bc = lr.predict(x_test_s)"
      ],
      "execution_count": 66,
      "outputs": []
    },
    {
      "cell_type": "code",
      "metadata": {
        "id": "RIpkbqqmD9L9",
        "outputId": "e6891d33-842d-492a-8c0d-1bfcecf58a0c",
        "colab": {
          "base_uri": "https://localhost:8080/"
        }
      },
      "source": [
        "# Make a prediction:\r\n",
        "y_pred_bc[:10]"
      ],
      "execution_count": 67,
      "outputs": [
        {
          "output_type": "execute_result",
          "data": {
            "text/plain": [
              "array([4.59896228, 4.37267976, 3.99862133, 5.62779706, 5.79721178,\n",
              "       6.52614238, 3.95058188, 4.80813186, 4.5536773 , 4.86443034])"
            ]
          },
          "metadata": {
            "tags": []
          },
          "execution_count": 67
        }
      ]
    },
    {
      "cell_type": "code",
      "metadata": {
        "id": "42iG9KmSECOW"
      },
      "source": [
        ""
      ],
      "execution_count": null,
      "outputs": []
    }
  ]
}