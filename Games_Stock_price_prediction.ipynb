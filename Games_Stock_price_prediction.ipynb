{
  "nbformat": 4,
  "nbformat_minor": 0,
  "metadata": {
    "colab": {
      "name": "Games Stock price prediction.ipynb",
      "provenance": [],
      "authorship_tag": "ABX9TyPRkhx+NnOGij70vGs9gAVn",
      "include_colab_link": true
    },
    "kernelspec": {
      "display_name": "Python 3",
      "name": "python3"
    }
  },
  "cells": [
    {
      "cell_type": "markdown",
      "metadata": {
        "id": "view-in-github",
        "colab_type": "text"
      },
      "source": [
        "<a href=\"https://colab.research.google.com/github/mohmaed7777/prediction-Houses-price-with-linear-Regression/blob/main/Games_Stock_price_prediction.ipynb\" target=\"_parent\"><img src=\"https://colab.research.google.com/assets/colab-badge.svg\" alt=\"Open In Colab\"/></a>"
      ]
    },
    {
      "cell_type": "code",
      "metadata": {
        "colab": {
          "base_uri": "https://localhost:8080/"
        },
        "id": "q_UHooxGxwFU",
        "outputId": "fd941a42-d423-4a57-b7e1-4e5619cd8a2e"
      },
      "source": [
        "import pandas as pd\r\n",
        "import numpy as np \r\n",
        "import matplotlib.pyplot as plt\r\n",
        "import seaborn as sns \r\n",
        "%matplotlib inline \r\n",
        "%config InlineBackend.figure_formats=['retina']\r\n",
        "%pylab inline \r\n",
        "print('Setup Complete^__^')"
      ],
      "execution_count": 11,
      "outputs": [
        {
          "output_type": "stream",
          "text": [
            "Populating the interactive namespace from numpy and matplotlib\n",
            "Setup Complete^__^\n"
          ],
          "name": "stdout"
        }
      ]
    },
    {
      "cell_type": "code",
      "metadata": {
        "colab": {
          "base_uri": "https://localhost:8080/",
          "height": 254
        },
        "id": "_JvyhzVP1Bu3",
        "outputId": "db1d9817-d00d-4846-d10c-ad7efbac965a"
      },
      "source": [
        "df = pd.read_csv('/content/GME_stock.csv')\r\n",
        "df.head(7)"
      ],
      "execution_count": 15,
      "outputs": [
        {
          "output_type": "execute_result",
          "data": {
            "text/html": [
              "<div>\n",
              "<style scoped>\n",
              "    .dataframe tbody tr th:only-of-type {\n",
              "        vertical-align: middle;\n",
              "    }\n",
              "\n",
              "    .dataframe tbody tr th {\n",
              "        vertical-align: top;\n",
              "    }\n",
              "\n",
              "    .dataframe thead th {\n",
              "        text-align: right;\n",
              "    }\n",
              "</style>\n",
              "<table border=\"1\" class=\"dataframe\">\n",
              "  <thead>\n",
              "    <tr style=\"text-align: right;\">\n",
              "      <th></th>\n",
              "      <th>date</th>\n",
              "      <th>open_price</th>\n",
              "      <th>high_price</th>\n",
              "      <th>low_price</th>\n",
              "      <th>close_price</th>\n",
              "      <th>volume</th>\n",
              "      <th>adjclose_price</th>\n",
              "    </tr>\n",
              "  </thead>\n",
              "  <tbody>\n",
              "    <tr>\n",
              "      <th>0</th>\n",
              "      <td>2021-01-28</td>\n",
              "      <td>265.000000</td>\n",
              "      <td>483.000000</td>\n",
              "      <td>112.250000</td>\n",
              "      <td>193.600006</td>\n",
              "      <td>58815800.0</td>\n",
              "      <td>193.600006</td>\n",
              "    </tr>\n",
              "    <tr>\n",
              "      <th>1</th>\n",
              "      <td>2021-01-27</td>\n",
              "      <td>354.829987</td>\n",
              "      <td>380.000000</td>\n",
              "      <td>249.000000</td>\n",
              "      <td>347.510010</td>\n",
              "      <td>93396700.0</td>\n",
              "      <td>347.510010</td>\n",
              "    </tr>\n",
              "    <tr>\n",
              "      <th>2</th>\n",
              "      <td>2021-01-26</td>\n",
              "      <td>88.559998</td>\n",
              "      <td>150.000000</td>\n",
              "      <td>80.199997</td>\n",
              "      <td>147.979996</td>\n",
              "      <td>178588000.0</td>\n",
              "      <td>147.979996</td>\n",
              "    </tr>\n",
              "    <tr>\n",
              "      <th>3</th>\n",
              "      <td>2021-01-25</td>\n",
              "      <td>96.730003</td>\n",
              "      <td>159.179993</td>\n",
              "      <td>61.130001</td>\n",
              "      <td>76.790001</td>\n",
              "      <td>177874000.0</td>\n",
              "      <td>76.790001</td>\n",
              "    </tr>\n",
              "    <tr>\n",
              "      <th>4</th>\n",
              "      <td>2021-01-22</td>\n",
              "      <td>42.590000</td>\n",
              "      <td>76.760002</td>\n",
              "      <td>42.320000</td>\n",
              "      <td>65.010002</td>\n",
              "      <td>196784300.0</td>\n",
              "      <td>65.010002</td>\n",
              "    </tr>\n",
              "    <tr>\n",
              "      <th>5</th>\n",
              "      <td>2021-01-21</td>\n",
              "      <td>39.230000</td>\n",
              "      <td>44.750000</td>\n",
              "      <td>37.000000</td>\n",
              "      <td>43.029999</td>\n",
              "      <td>57079800.0</td>\n",
              "      <td>43.029999</td>\n",
              "    </tr>\n",
              "    <tr>\n",
              "      <th>6</th>\n",
              "      <td>2021-01-20</td>\n",
              "      <td>37.369999</td>\n",
              "      <td>41.189999</td>\n",
              "      <td>36.060001</td>\n",
              "      <td>39.119999</td>\n",
              "      <td>33471800.0</td>\n",
              "      <td>39.119999</td>\n",
              "    </tr>\n",
              "  </tbody>\n",
              "</table>\n",
              "</div>"
            ],
            "text/plain": [
              "         date  open_price  high_price  ...  close_price       volume  adjclose_price\n",
              "0  2021-01-28  265.000000  483.000000  ...   193.600006   58815800.0      193.600006\n",
              "1  2021-01-27  354.829987  380.000000  ...   347.510010   93396700.0      347.510010\n",
              "2  2021-01-26   88.559998  150.000000  ...   147.979996  178588000.0      147.979996\n",
              "3  2021-01-25   96.730003  159.179993  ...    76.790001  177874000.0       76.790001\n",
              "4  2021-01-22   42.590000   76.760002  ...    65.010002  196784300.0       65.010002\n",
              "5  2021-01-21   39.230000   44.750000  ...    43.029999   57079800.0       43.029999\n",
              "6  2021-01-20   37.369999   41.189999  ...    39.119999   33471800.0       39.119999\n",
              "\n",
              "[7 rows x 7 columns]"
            ]
          },
          "metadata": {
            "tags": []
          },
          "execution_count": 15
        }
      ]
    },
    {
      "cell_type": "code",
      "metadata": {
        "id": "BW6xLCrS1jn5",
        "colab": {
          "base_uri": "https://localhost:8080/"
        },
        "outputId": "6c527533-0a3f-4515-f703-018fc7dda304"
      },
      "source": [
        "df.shape"
      ],
      "execution_count": 14,
      "outputs": [
        {
          "output_type": "execute_result",
          "data": {
            "text/plain": [
              "(4773, 7)"
            ]
          },
          "metadata": {
            "tags": []
          },
          "execution_count": 14
        }
      ]
    },
    {
      "cell_type": "code",
      "metadata": {
        "colab": {
          "base_uri": "https://localhost:8080/"
        },
        "id": "dnM5LdczEKfh",
        "outputId": "21ec31f1-f27d-4042-a95a-8c8dd2b6fed1"
      },
      "source": [
        "df.info(verbose=True)"
      ],
      "execution_count": 17,
      "outputs": [
        {
          "output_type": "stream",
          "text": [
            "<class 'pandas.core.frame.DataFrame'>\n",
            "RangeIndex: 4773 entries, 0 to 4772\n",
            "Data columns (total 7 columns):\n",
            " #   Column          Non-Null Count  Dtype  \n",
            "---  ------          --------------  -----  \n",
            " 0   date            4773 non-null   object \n",
            " 1   open_price      4773 non-null   float64\n",
            " 2   high_price      4773 non-null   float64\n",
            " 3   low_price       4773 non-null   float64\n",
            " 4   close_price     4773 non-null   float64\n",
            " 5   volume          4773 non-null   float64\n",
            " 6   adjclose_price  4773 non-null   float64\n",
            "dtypes: float64(6), object(1)\n",
            "memory usage: 261.1+ KB\n"
          ],
          "name": "stdout"
        }
      ]
    },
    {
      "cell_type": "code",
      "metadata": {
        "colab": {
          "base_uri": "https://localhost:8080/"
        },
        "id": "Hvfd2-B6EQQC",
        "outputId": "2763a122-7a06-49a8-d9e7-318dc100128f"
      },
      "source": [
        " missing_values = df.isnull().sum()\r\n",
        " missing_values[:10]"
      ],
      "execution_count": 18,
      "outputs": [
        {
          "output_type": "execute_result",
          "data": {
            "text/plain": [
              "date              0\n",
              "open_price        0\n",
              "high_price        0\n",
              "low_price         0\n",
              "close_price       0\n",
              "volume            0\n",
              "adjclose_price    0\n",
              "dtype: int64"
            ]
          },
          "metadata": {
            "tags": []
          },
          "execution_count": 18
        }
      ]
    },
    {
      "cell_type": "code",
      "metadata": {
        "colab": {
          "base_uri": "https://localhost:8080/",
          "height": 284
        },
        "id": "D8jjQMQNEc4j",
        "outputId": "74bd6b2c-48a2-47db-c378-755cfba4d15e"
      },
      "source": [
        "df.describe()"
      ],
      "execution_count": 19,
      "outputs": [
        {
          "output_type": "execute_result",
          "data": {
            "text/html": [
              "<div>\n",
              "<style scoped>\n",
              "    .dataframe tbody tr th:only-of-type {\n",
              "        vertical-align: middle;\n",
              "    }\n",
              "\n",
              "    .dataframe tbody tr th {\n",
              "        vertical-align: top;\n",
              "    }\n",
              "\n",
              "    .dataframe thead th {\n",
              "        text-align: right;\n",
              "    }\n",
              "</style>\n",
              "<table border=\"1\" class=\"dataframe\">\n",
              "  <thead>\n",
              "    <tr style=\"text-align: right;\">\n",
              "      <th></th>\n",
              "      <th>open_price</th>\n",
              "      <th>high_price</th>\n",
              "      <th>low_price</th>\n",
              "      <th>close_price</th>\n",
              "      <th>volume</th>\n",
              "      <th>adjclose_price</th>\n",
              "    </tr>\n",
              "  </thead>\n",
              "  <tbody>\n",
              "    <tr>\n",
              "      <th>count</th>\n",
              "      <td>4773.000000</td>\n",
              "      <td>4773.000000</td>\n",
              "      <td>4773.000000</td>\n",
              "      <td>4773.000000</td>\n",
              "      <td>4.773000e+03</td>\n",
              "      <td>4773.000000</td>\n",
              "    </tr>\n",
              "    <tr>\n",
              "      <th>mean</th>\n",
              "      <td>23.201005</td>\n",
              "      <td>23.693590</td>\n",
              "      <td>22.714309</td>\n",
              "      <td>23.193234</td>\n",
              "      <td>3.398255e+06</td>\n",
              "      <td>16.882897</td>\n",
              "    </tr>\n",
              "    <tr>\n",
              "      <th>std</th>\n",
              "      <td>14.695884</td>\n",
              "      <td>16.210219</td>\n",
              "      <td>13.628194</td>\n",
              "      <td>14.513893</td>\n",
              "      <td>6.547035e+06</td>\n",
              "      <td>11.019953</td>\n",
              "    </tr>\n",
              "    <tr>\n",
              "      <th>min</th>\n",
              "      <td>2.850000</td>\n",
              "      <td>2.940000</td>\n",
              "      <td>2.570000</td>\n",
              "      <td>2.800000</td>\n",
              "      <td>6.500000e+04</td>\n",
              "      <td>2.555174</td>\n",
              "    </tr>\n",
              "    <tr>\n",
              "      <th>25%</th>\n",
              "      <td>11.360000</td>\n",
              "      <td>11.575000</td>\n",
              "      <td>11.130000</td>\n",
              "      <td>11.350000</td>\n",
              "      <td>1.528900e+06</td>\n",
              "      <td>9.607993</td>\n",
              "    </tr>\n",
              "    <tr>\n",
              "      <th>50%</th>\n",
              "      <td>21.760000</td>\n",
              "      <td>22.110001</td>\n",
              "      <td>21.430000</td>\n",
              "      <td>21.760000</td>\n",
              "      <td>2.491800e+06</td>\n",
              "      <td>15.479172</td>\n",
              "    </tr>\n",
              "    <tr>\n",
              "      <th>75%</th>\n",
              "      <td>29.420000</td>\n",
              "      <td>30.170000</td>\n",
              "      <td>28.719999</td>\n",
              "      <td>29.430000</td>\n",
              "      <td>3.791600e+06</td>\n",
              "      <td>22.205433</td>\n",
              "    </tr>\n",
              "    <tr>\n",
              "      <th>max</th>\n",
              "      <td>354.829987</td>\n",
              "      <td>483.000000</td>\n",
              "      <td>249.000000</td>\n",
              "      <td>347.510010</td>\n",
              "      <td>1.967843e+08</td>\n",
              "      <td>347.510010</td>\n",
              "    </tr>\n",
              "  </tbody>\n",
              "</table>\n",
              "</div>"
            ],
            "text/plain": [
              "        open_price   high_price  ...        volume  adjclose_price\n",
              "count  4773.000000  4773.000000  ...  4.773000e+03     4773.000000\n",
              "mean     23.201005    23.693590  ...  3.398255e+06       16.882897\n",
              "std      14.695884    16.210219  ...  6.547035e+06       11.019953\n",
              "min       2.850000     2.940000  ...  6.500000e+04        2.555174\n",
              "25%      11.360000    11.575000  ...  1.528900e+06        9.607993\n",
              "50%      21.760000    22.110001  ...  2.491800e+06       15.479172\n",
              "75%      29.420000    30.170000  ...  3.791600e+06       22.205433\n",
              "max     354.829987   483.000000  ...  1.967843e+08      347.510010\n",
              "\n",
              "[8 rows x 6 columns]"
            ]
          },
          "metadata": {
            "tags": []
          },
          "execution_count": 19
        }
      ]
    },
    {
      "cell_type": "code",
      "metadata": {
        "colab": {
          "base_uri": "https://localhost:8080/",
          "height": 265
        },
        "id": "hILm7QYsEfuf",
        "outputId": "710a47a2-5ee6-461d-89ff-f334e4d72596"
      },
      "source": [
        "df['close_price'].hist();"
      ],
      "execution_count": 20,
      "outputs": [
        {
          "output_type": "display_data",
          "data": {
            "image/png": "[encoded data removed]",
            "text/plain": [
              "<Figure size 432x288 with 1 Axes>"
            ]
          },
          "metadata": {
            "tags": [],
            "image/png": {
              "width": 381,
              "height": 248
            },
            "needs_background": "light"
          }
        }
      ]
    },
    {
      "cell_type": "code",
      "metadata": {
        "id": "Hp_6HILQEp5O"
      },
      "source": [
        ""
      ],
      "execution_count": null,
      "outputs": []
    }
  ]
}